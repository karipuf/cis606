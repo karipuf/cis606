{
 "cells": [
  {
   "cell_type": "code",
   "execution_count": 1,
   "metadata": {
    "collapsed": true
   },
   "outputs": [],
   "source": [
    "import tensorflow as tf\n",
    "import numpy as np\n",
    "import pylab as pl\n",
    "import pandas as pd\n",
    "\n",
    "%matplotlib inline"
   ]
  },
  {
   "cell_type": "code",
   "execution_count": 2,
   "metadata": {
    "collapsed": true
   },
   "outputs": [],
   "source": [
    "from sklearn.datasets import california_housing\n",
    "from sklearn.ensemble import RandomForestRegressor\n",
    "from sklearn.model_selection import train_test_split\n",
    "from sklearn.preprocessing import scale"
   ]
  },
  {
   "cell_type": "code",
   "execution_count": 3,
   "metadata": {
    "collapsed": true
   },
   "outputs": [],
   "source": [
    "california=california_housing.fetch_california_housing()"
   ]
  },
  {
   "cell_type": "code",
   "execution_count": 4,
   "metadata": {
    "collapsed": true
   },
   "outputs": [],
   "source": [
    "x=scale(california['data'])\n",
    "y=california['target']\n",
    "\n",
    "df=pd.DataFrame(x,columns=california['feature_names'])"
   ]
  },
  {
   "cell_type": "code",
   "execution_count": 5,
   "metadata": {
    "collapsed": true
   },
   "outputs": [],
   "source": [
    "df2=pd.read_csv(\"/data/california/housing.csv\")"
   ]
  },
  {
   "cell_type": "code",
   "execution_count": 6,
   "metadata": {},
   "outputs": [
    {
     "name": "stdout",
     "output_type": "stream",
     "text": [
      "2.06855816909\n"
     ]
    },
    {
     "data": {
      "text/plain": [
       "206855.81690891474"
      ]
     },
     "execution_count": 6,
     "metadata": {},
     "output_type": "execute_result"
    }
   ],
   "source": [
    "print(y.mean())\n",
    "df2.median_house_value.mean()"
   ]
  },
  {
   "cell_type": "code",
   "execution_count": 7,
   "metadata": {
    "code_folding": [],
    "collapsed": true
   },
   "outputs": [],
   "source": [
    "# Splitting into train and test sets\n",
    "\n",
    "xtrain,xtest,ytrain,ytest=train_test_split(x,y,test_size=0.3)"
   ]
  },
  {
   "cell_type": "markdown",
   "metadata": {},
   "source": [
    "# Random Forest regressor\n",
    "\n",
    "* Benchmark system\n",
    "* RF generally gives great performance for problems like this"
   ]
  },
  {
   "cell_type": "code",
   "execution_count": 11,
   "metadata": {},
   "outputs": [
    {
     "data": {
      "text/plain": [
       "(14448, 8)"
      ]
     },
     "execution_count": 11,
     "metadata": {},
     "output_type": "execute_result"
    }
   ],
   "source": [
    "xtrain.shape"
   ]
  },
  {
   "cell_type": "code",
   "execution_count": 12,
   "metadata": {
    "collapsed": true
   },
   "outputs": [],
   "source": [
    "rf=RandomForestRegressor(n_estimators=100).fit(xtrain,ytrain)"
   ]
  },
  {
   "cell_type": "code",
   "execution_count": 13,
   "metadata": {},
   "outputs": [
    {
     "data": {
      "text/plain": [
       "0.27386158637597946"
      ]
     },
     "execution_count": 13,
     "metadata": {},
     "output_type": "execute_result"
    }
   ],
   "source": [
    "# MSE Error\n",
    "np.mean((rf.predict(xtest)-ytest)**2)"
   ]
  },
  {
   "cell_type": "markdown",
   "metadata": {},
   "source": [
    "# \"Deep\" Neural Network\n",
    "\n",
    "* Two hidden layers\n",
    "* Investigate the effect of different params"
   ]
  },
  {
   "cell_type": "code",
   "execution_count": 17,
   "metadata": {
    "collapsed": true
   },
   "outputs": [],
   "source": [
    "nhidden1=150\n",
    "nhidden2=100\n",
    "n_iter=1000\n",
    "activation=tf.nn.relu\n",
    "#activation=tf.nn.sigmoid"
   ]
  },
  {
   "cell_type": "code",
   "execution_count": 18,
   "metadata": {
    "collapsed": true
   },
   "outputs": [],
   "source": [
    "tf.reset_default_graph()\n",
    "\n",
    "nx=tf.placeholder(tf.float32,(None,8),name='x')\n",
    "ny=tf.placeholder(tf.float32,(None,1),name='y')\n",
    "dropkeep=tf.placeholder(tf.float32)\n",
    "\n",
    "w1=tf.Variable(tf.truncated_normal((8,nhidden1),stddev=0.01),name='w1')\n",
    "b1=tf.Variable(tf.zeros(nhidden1),name='b1')\n",
    "a1=tf.nn.dropout(activation(tf.matmul(nx,w1)+b1),dropkeep,name='a1')\n",
    "\n",
    "w2=tf.Variable(tf.truncated_normal((nhidden1,nhidden2),stddev=.01),name='w2')\n",
    "b2=tf.Variable(tf.zeros(nhidden2),name='b2')\n",
    "a2=tf.nn.dropout(activation(tf.matmul(a1,w2)+b2),dropkeep,name='a2')\n",
    "\n",
    "wout=tf.Variable(tf.truncated_normal((nhidden2,1),stddev=.01),name='w_out')\n",
    "bout=tf.Variable(tf.zeros(1),name='b_out')\n",
    "\n",
    "ypred=tf.matmul(a2,wout)+bout\n",
    "loss=tf.losses.mean_squared_error(ny,ypred)\n",
    "#regloss=tf.losses.mean_squared_error(ny,ypred)+.1*tf.nn.l2_loss(w1)+.1*tf.nn.l2_loss(w2)\n",
    "\n",
    "opt=tf.train.AdamOptimizer().minimize(loss)"
   ]
  },
  {
   "cell_type": "code",
   "execution_count": 19,
   "metadata": {
    "code_folding": []
   },
   "outputs": [
    {
     "name": "stdout",
     "output_type": "stream",
     "text": [
      "iter #0, training loss is 5.57522, test loss is 5.68273\n",
      "iter #100, training loss is 0.682194, test loss is 0.585924\n",
      "iter #200, training loss is 0.529074, test loss is 0.448242\n",
      "iter #300, training loss is 0.519713, test loss is 0.437934\n",
      "iter #400, training loss is 0.507313, test loss is 0.42968\n",
      "iter #500, training loss is 0.503863, test loss is 0.42396\n",
      "iter #600, training loss is 0.492849, test loss is 0.419062\n",
      "iter #700, training loss is 0.486412, test loss is 0.413798\n",
      "iter #800, training loss is 0.480265, test loss is 0.409774\n",
      "iter #900, training loss is 0.474171, test loss is 0.403733\n"
     ]
    }
   ],
   "source": [
    "try: sess.close()\n",
    "except: pass\n",
    "\n",
    "with tf.Session() as sess:\n",
    "    writer = tf.summary.FileWriter(\"/home/wlwoon/tmp/day14log\", sess.graph)\n",
    "    sess.run(tf.global_variables_initializer())\n",
    "    for count in range(n_iter):\n",
    "        _,tloss=sess.run([opt,loss],feed_dict={dropkeep:.5,nx:xtrain,ny:ytrain.reshape((-1,1))})\n",
    "        if count % 100 ==0:\n",
    "            test_loss=sess.run(loss,feed_dict={dropkeep:1.0,nx:xtest,ny:ytest.reshape((-1,1))})\n",
    "            print(\"iter #\"+str(count)+\", training loss is \"+str(tloss)+\", test loss is \"+str(test_loss))\n",
    "    writer.flush()"
   ]
  },
  {
   "cell_type": "code",
   "execution_count": 19,
   "metadata": {},
   "outputs": [
    {
     "data": {
      "text/plain": [
       "199"
      ]
     },
     "execution_count": 19,
     "metadata": {},
     "output_type": "execute_result"
    }
   ],
   "source": [
    "count"
   ]
  }
 ],
 "metadata": {
  "kernelspec": {
   "display_name": "Python 3",
   "language": "python",
   "name": "python3"
  },
  "language_info": {
   "codemirror_mode": {
    "name": "ipython",
    "version": 3
   },
   "file_extension": ".py",
   "mimetype": "text/x-python",
   "name": "python",
   "nbconvert_exporter": "python",
   "pygments_lexer": "ipython3",
   "version": "3.6.2"
  }
 },
 "nbformat": 4,
 "nbformat_minor": 1
}

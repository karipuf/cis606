{
 "cells": [
  {
   "cell_type": "code",
   "execution_count": 1,
   "metadata": {
    "collapsed": true,
    "deletable": true,
    "editable": true
   },
   "outputs": [],
   "source": [
    "import tensorflow as tf\n",
    "import numpy as np\n",
    "import pylab as pl\n",
    "import pandas as pd\n",
    "\n",
    "%matplotlib inline"
   ]
  },
  {
   "cell_type": "code",
   "execution_count": 2,
   "metadata": {
    "collapsed": true,
    "deletable": true,
    "editable": true
   },
   "outputs": [],
   "source": [
    "from sklearn.datasets import california_housing\n",
    "from sklearn.ensemble import RandomForestRegressor\n",
    "from sklearn.model_selection import train_test_split\n",
    "from sklearn.preprocessing import scale"
   ]
  },
  {
   "cell_type": "code",
   "execution_count": 3,
   "metadata": {
    "collapsed": true,
    "deletable": true,
    "editable": true
   },
   "outputs": [],
   "source": [
    "california=california_housing.fetch_california_housing()"
   ]
  },
  {
   "cell_type": "code",
   "execution_count": 4,
   "metadata": {
    "collapsed": true,
    "deletable": true,
    "editable": true
   },
   "outputs": [],
   "source": [
    "x=scale(california['data'])\n",
    "y=california['target']\n",
    "\n",
    "df=pd.DataFrame(x,columns=california['feature_names'])"
   ]
  },
  {
   "cell_type": "code",
   "execution_count": 7,
   "metadata": {
    "code_folding": [],
    "collapsed": true,
    "deletable": true,
    "editable": true
   },
   "outputs": [],
   "source": [
    "# Splitting into train and test sets\n",
    "\n",
    "xtrain,xtest,ytrain,ytest=train_test_split(x,y,test_size=0.3)"
   ]
  },
  {
   "cell_type": "markdown",
   "metadata": {
    "deletable": true,
    "editable": true
   },
   "source": [
    "# Random Forest regressor\n",
    "\n",
    "* Benchmark system\n",
    "* RF generally gives great performance for problems like this"
   ]
  },
  {
   "cell_type": "code",
   "execution_count": 11,
   "metadata": {
    "collapsed": false,
    "deletable": true,
    "editable": true
   },
   "outputs": [
    {
     "data": {
      "text/plain": [
       "(14448, 8)"
      ]
     },
     "execution_count": 11,
     "metadata": {},
     "output_type": "execute_result"
    }
   ],
   "source": [
    "xtrain.shape"
   ]
  },
  {
   "cell_type": "code",
   "execution_count": 12,
   "metadata": {
    "collapsed": true,
    "deletable": true,
    "editable": true
   },
   "outputs": [],
   "source": [
    "rf=RandomForestRegressor(n_estimators=100).fit(xtrain,ytrain)"
   ]
  },
  {
   "cell_type": "code",
   "execution_count": 13,
   "metadata": {
    "collapsed": false,
    "deletable": true,
    "editable": true
   },
   "outputs": [
    {
     "data": {
      "text/plain": [
       "0.27386158637597946"
      ]
     },
     "execution_count": 13,
     "metadata": {},
     "output_type": "execute_result"
    }
   ],
   "source": [
    "# MSE Error\n",
    "np.mean((rf.predict(xtest)-ytest)**2)"
   ]
  },
  {
   "cell_type": "markdown",
   "metadata": {
    "deletable": true,
    "editable": true
   },
   "source": [
    "# \"Deep\" Neural Network\n",
    "\n",
    "* Two hidden layers\n",
    "* Investigate the effect of different params"
   ]
  },
  {
   "cell_type": "code",
   "execution_count": 20,
   "metadata": {
    "collapsed": true,
    "deletable": true,
    "editable": true
   },
   "outputs": [],
   "source": [
    "nhidden1=250\n",
    "nhidden2=200\n",
    "n_iter=1000\n",
    "activation=tf.nn.relu\n",
    "#activation=tf.nn.sigmoid"
   ]
  },
  {
   "cell_type": "code",
   "execution_count": null,
   "metadata": {
    "collapsed": true,
    "deletable": true,
    "editable": true
   },
   "outputs": [],
   "source": [
    "tf.reset_default_graph()\n",
    "\n",
    "nx=tf.placeholder(tf.float32,(None,8),name='x')\n",
    "ny=tf.placeholder(tf.float32,(None,1),name='y')\n",
    "dropkeep=tf.placeholder(tf.float32)\n",
    "\n",
    "w1=tf.Variable(tf.truncated_normal((8,nhidden1),stddev=0.01),name='w1')\n",
    "b1=tf.Variable(tf.zeros(nhidden1),name='b1')\n",
    "a1=tf.nn.dropout(activation(tf.matmul(nx,w1)+b1),dropkeep,name='a1')\n",
    "\n",
    "w2=tf.Variable(tf.truncated_normal((nhidden1,nhidden2),stddev=.01),name='w2')\n",
    "b2=tf.Variable(tf.zeros(nhidden2),name='b2')\n",
    "a2=tf.nn.dropout(activation(tf.matmul(a1,w2)+b2),dropkeep,name='a2')\n",
    "\n",
    "wout=tf.Variable(tf.truncated_normal((nhidden2,1),stddev=.01),name='w_out')\n",
    "bout=tf.Variable(tf.zeros(1),name='b_out')\n",
    "\n",
    "ypred=tf.matmul(a2,wout)+bout\n",
    "loss=tf.losses.mean_squared_error(ny,ypred)\n",
    "#regloss=tf.losses.mean_squared_error(ny,ypred)+.1*tf.nn.l2_loss(w1)+.1*tf.nn.l2_loss(w2)\n",
    "\n",
    "opt=tf.train.AdamOptimizer().minimize(loss)"
   ]
  },
  {
   "cell_type": "code",
   "execution_count": null,
   "metadata": {
    "code_folding": [],
    "collapsed": false,
    "deletable": true,
    "editable": true
   },
   "outputs": [
    {
     "name": "stdout",
     "output_type": "stream",
     "text": [
      "iter #0, training loss is 5.57428, test loss is 5.67361\n",
      "iter #100, training loss is 0.538776, test loss is 0.508231\n",
      "iter #200, training loss is 0.469622, test loss is 0.437835\n",
      "iter #300, training loss is 0.445844, test loss is 0.42304\n",
      "iter #400, training loss is 0.449285, test loss is 0.412777\n",
      "iter #500, training loss is 0.436018, test loss is 0.406392\n"
     ]
    }
   ],
   "source": [
    "try: sess.close()\n",
    "except: pass\n",
    "\n",
    "with tf.Session() as sess:\n",
    "    writer = tf.summary.FileWriter(\"/home/wlwoon/tmp/day14log\", sess.graph)\n",
    "    sess.run(tf.global_variables_initializer())\n",
    "    for count in range(n_iter):\n",
    "        _,tloss=sess.run([opt,loss],feed_dict={dropkeep:.5,nx:xtrain,ny:ytrain.reshape((-1,1))})\n",
    "        if count % 100 ==0:\n",
    "            test_loss=sess.run(loss,feed_dict={dropkeep:1.0,nx:xtest,ny:ytest.reshape((-1,1))})\n",
    "            print(\"iter #\"+str(count)+\", training loss is \"+str(tloss)+\", test loss is \"+str(test_loss))\n",
    "    writer.flush()"
   ]
  },
  {
   "cell_type": "code",
   "execution_count": 19,
   "metadata": {
    "collapsed": false,
    "deletable": true,
    "editable": true
   },
   "outputs": [
    {
     "data": {
      "text/plain": [
       "199"
      ]
     },
     "execution_count": 19,
     "metadata": {},
     "output_type": "execute_result"
    }
   ],
   "source": [
    "count"
   ]
  }
 ],
 "metadata": {
  "anaconda-cloud": {},
  "kernelspec": {
   "display_name": "Python [default]",
   "language": "python",
   "name": "python3"
  },
  "language_info": {
   "codemirror_mode": {
    "name": "ipython",
    "version": 3
   },
   "file_extension": ".py",
   "mimetype": "text/x-python",
   "name": "python",
   "nbconvert_exporter": "python",
   "pygments_lexer": "ipython3",
   "version": "3.5.2"
  }
 },
 "nbformat": 4,
 "nbformat_minor": 1
}

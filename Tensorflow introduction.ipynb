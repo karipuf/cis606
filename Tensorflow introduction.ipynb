{
 "cells": [
  {
   "cell_type": "code",
   "execution_count": 1,
   "metadata": {
    "collapsed": true,
    "deletable": true,
    "editable": true
   },
   "outputs": [],
   "source": [
    "import pdb\n",
    "import tensorflow as tf\n",
    "import numpy as np\n",
    "import pylab as pl\n",
    "import pandas as pd\n",
    "\n",
    "counter=iter(range(10000))\n",
    "\n",
    "%matplotlib inline"
   ]
  },
  {
   "cell_type": "code",
   "execution_count": 2,
   "metadata": {
    "collapsed": true,
    "deletable": true,
    "editable": true
   },
   "outputs": [],
   "source": [
    "from sklearn.datasets import california_housing\n",
    "from sklearn.ensemble import RandomForestRegressor\n",
    "from sklearn.model_selection import train_test_split\n",
    "from sklearn.preprocessing import scale"
   ]
  },
  {
   "cell_type": "code",
   "execution_count": 3,
   "metadata": {
    "collapsed": false,
    "deletable": true,
    "editable": true
   },
   "outputs": [],
   "source": [
    "california=california_housing.fetch_california_housing()"
   ]
  },
  {
   "cell_type": "code",
   "execution_count": 4,
   "metadata": {
    "collapsed": true,
    "deletable": true,
    "editable": true
   },
   "outputs": [],
   "source": [
    "x=scale(california['data'])\n",
    "y=california['target']\n",
    "\n",
    "x=(x-np.mean(x,axis=0))/np.std(x,axis=0)\n",
    "y=(y-np.mean(y))/np.std(y)\n",
    "\n",
    "#df=pd.DataFrame(x,columns=california['feature_names'])"
   ]
  },
  {
   "cell_type": "code",
   "execution_count": 5,
   "metadata": {
    "code_folding": [],
    "collapsed": true,
    "deletable": true,
    "editable": true
   },
   "outputs": [],
   "source": [
    "# Splitting into train and test sets\n",
    "\n",
    "xtrain,xtest,ytrain,ytest=train_test_split(x,y,test_size=0.3)"
   ]
  },
  {
   "cell_type": "markdown",
   "metadata": {
    "deletable": true,
    "editable": true
   },
   "source": [
    "# Random Forest regressor\n",
    "\n",
    "* Benchmark system\n",
    "* RF generally gives great performance for problems like this"
   ]
  },
  {
   "cell_type": "code",
   "execution_count": 6,
   "metadata": {
    "collapsed": false,
    "deletable": true,
    "editable": true
   },
   "outputs": [
    {
     "data": {
      "text/plain": [
       "(14448, 8)"
      ]
     },
     "execution_count": 6,
     "metadata": {},
     "output_type": "execute_result"
    }
   ],
   "source": [
    "xtrain.shape"
   ]
  },
  {
   "cell_type": "code",
   "execution_count": 7,
   "metadata": {
    "collapsed": true,
    "deletable": true,
    "editable": true
   },
   "outputs": [],
   "source": [
    "rf=RandomForestRegressor(n_estimators=100).fit(xtrain,ytrain)"
   ]
  },
  {
   "cell_type": "code",
   "execution_count": 8,
   "metadata": {
    "collapsed": false,
    "deletable": true,
    "editable": true
   },
   "outputs": [
    {
     "data": {
      "text/plain": [
       "0.19787643732498045"
      ]
     },
     "execution_count": 8,
     "metadata": {},
     "output_type": "execute_result"
    }
   ],
   "source": [
    "# MSE Error\n",
    "np.mean((rf.predict(xtest)-ytest)**2)"
   ]
  },
  {
   "cell_type": "markdown",
   "metadata": {
    "deletable": true,
    "editable": true
   },
   "source": [
    "# \"Deep\" Neural Network\n",
    "\n",
    "* Two hidden layers\n",
    "* Investigate the effect of different params"
   ]
  },
  {
   "cell_type": "code",
   "execution_count": 11,
   "metadata": {
    "collapsed": true,
    "deletable": true,
    "editable": true
   },
   "outputs": [],
   "source": [
    "nhidden1=250\n",
    "nhidden2=200\n",
    "n_iter=1000\n",
    "activation=tf.nn.relu\n",
    "#activation=tf.nn.sigmoid"
   ]
  },
  {
   "cell_type": "code",
   "execution_count": 14,
   "metadata": {
    "collapsed": true,
    "deletable": true,
    "editable": true
   },
   "outputs": [],
   "source": [
    "def CreateDN(x,dropKeep,numUnits,resConns=[]):\n",
    "   \n",
    "    # Setting things up\n",
    "    nIn=int(x.shape[1])\n",
    "    y=x\n",
    "    l2=0\n",
    "    \n",
    "    for layer in range(len(numUnits)):\n",
    "        \n",
    "        if layer in resConns:\n",
    "            w=tf.get_variable(\"foo\"+str(layer),initializer=tf.glorot_normal_initializer(),shape=(nIn,numUnits[layer]))\n",
    "            w=tf.divide(w,2.,name=\"w\"+str(layer))\n",
    "        else:\n",
    "            w=tf.get_variable(\"w\"+str(layer),initializer=tf.glorot_normal_initializer(),shape=(nIn,numUnits[layer]))\n",
    "            #w=tf.divide(w,2.,name=\"w\"+str(layer))\n",
    "\n",
    "        b=tf.get_variable('b'+str(layer),initializer=tf.zeros_initializer(),shape=(numUnits[layer]))\n",
    "        \n",
    "        #print(w)\n",
    "        \n",
    "        if layer in resConns:\n",
    "            a=tf.add(tf.add(tf.matmul(y,w),b),y,name=\"a\"+str(layer))\n",
    "        else:\n",
    "            a=tf.add(tf.matmul(y,w),b,name=\"a\"+str(layer))\n",
    "        \n",
    "        #tmpmean=tf.Variable(tf.zeros((1,numUnits[layer])))\n",
    "        #tmpvar=tf.Variable(tf.ones((1,numUnits[layer])))\n",
    "        #a=tf.nn.batch_normalization(a,tmpmean,tmpvar,None,None,0.000000000001,name=\"a\"+str(layer))\n",
    "        #print(str(a))\n",
    "        \n",
    "        if layer==len(numUnits)-1:\n",
    "            y=a\n",
    "        else:\n",
    "            y=tf.nn.elu(a)\n",
    "            y=tf.nn.dropout(y,keep_prob=dropKeep)\n",
    "    \n",
    "        l2+=tf.reduce_sum(w**2)\n",
    "    \n",
    "        # Prepping for next layer, if present\n",
    "        nIn=numUnits[layer]\n",
    "        \n",
    "    return y,l2"
   ]
  },
  {
   "cell_type": "code",
   "execution_count": 24,
   "metadata": {
    "collapsed": false,
    "deletable": true,
    "editable": true
   },
   "outputs": [],
   "source": [
    "tf.reset_default_graph()\n",
    "\n",
    "n_iter=2000\n",
    "\n",
    "nx=tf.placeholder(tf.float32,(None,8))\n",
    "dk=tf.placeholder(tf.float32,())\n",
    "target=tf.placeholder(tf.float32,(None,1))\n",
    "\n",
    "#ny,l2=CreateDN(nx,dk,[256,256,64,1]) # <- this one already gives better results that RF\n",
    "#ny,l2=CreateDN(nx,dk,[256,256,256,256,64,1],resConns=[2,3])\n",
    "ny,l2=CreateDN(nx,dk,[128,64,32,32,1]) #,resConns=[4])\n",
    "\n",
    "testloss=tf.losses.mean_squared_error(ny,target)\n",
    "loss=testloss+l2*.0\n",
    "opt=tf.train.AdamOptimizer(learning_rate=.01).minimize(loss)"
   ]
  },
  {
   "cell_type": "code",
   "execution_count": 25,
   "metadata": {
    "code_folding": [],
    "collapsed": false,
    "deletable": true,
    "editable": true
   },
   "outputs": [
    {
     "name": "stdout",
     "output_type": "stream",
     "text": [
      "iter #0, training loss is 1.4137242, test loss is 0.5375497\n",
      "iter #50, training loss is 0.35503966, test loss is 0.28561282\n",
      "iter #100, training loss is 0.34119916, test loss is 0.27595115\n",
      "iter #150, training loss is 0.32874084, test loss is 0.26675513\n",
      "iter #200, training loss is 0.32749927, test loss is 0.26268175\n",
      "iter #250, training loss is 0.3224669, test loss is 0.25739345\n",
      "iter #300, training loss is 0.32443094, test loss is 0.253099\n",
      "iter #350, training loss is 0.31514037, test loss is 0.24893086\n",
      "iter #400, training loss is 0.31529248, test loss is 0.2458914\n",
      "iter #450, training loss is 0.3114297, test loss is 0.23936981\n",
      "iter #500, training loss is 0.3092137, test loss is 0.23536505\n",
      "iter #550, training loss is 0.3015656, test loss is 0.23900361\n",
      "iter #600, training loss is 0.30080348, test loss is 0.23588495\n",
      "iter #650, training loss is 0.30264705, test loss is 0.22941823\n",
      "iter #700, training loss is 0.29973918, test loss is 0.23080632\n",
      "iter #750, training loss is 0.29746565, test loss is 0.2313379\n",
      "iter #800, training loss is 0.29472122, test loss is 0.22889343\n",
      "iter #850, training loss is 0.2913407, test loss is 0.22693752\n",
      "iter #900, training loss is 0.29325578, test loss is 0.22774243\n",
      "iter #950, training loss is 0.29176345, test loss is 0.22409631\n",
      "iter #1000, training loss is 0.29251802, test loss is 0.22353373\n",
      "iter #1050, training loss is 0.2919731, test loss is 0.22064269\n",
      "iter #1100, training loss is 0.2883885, test loss is 0.2198\n",
      "iter #1150, training loss is 0.28950536, test loss is 0.22400822\n",
      "iter #1200, training loss is 0.2850767, test loss is 0.22178528\n",
      "iter #1250, training loss is 0.2823202, test loss is 0.21797186\n",
      "iter #1300, training loss is 0.28556845, test loss is 0.2232434\n",
      "iter #1350, training loss is 0.28383434, test loss is 0.21693483\n",
      "iter #1400, training loss is 0.2822512, test loss is 0.21919231\n",
      "iter #1450, training loss is 0.28031096, test loss is 0.21542212\n",
      "iter #1500, training loss is 0.28117743, test loss is 0.21404247\n",
      "iter #1550, training loss is 0.2804181, test loss is 0.2152406\n",
      "iter #1600, training loss is 0.2807973, test loss is 0.21417066\n",
      "iter #1650, training loss is 0.273184, test loss is 0.21194458\n",
      "iter #1700, training loss is 0.27677858, test loss is 0.21177776\n",
      "iter #1750, training loss is 0.2752656, test loss is 0.21324442\n",
      "iter #1800, training loss is 0.27876666, test loss is 0.21758984\n",
      "iter #1850, training loss is 0.27634287, test loss is 0.21062022\n",
      "iter #1900, training loss is 0.27716807, test loss is 0.21539563\n",
      "iter #1950, training loss is 0.2737982, test loss is 0.20953058\n"
     ]
    }
   ],
   "source": [
    "try: sess.close()\n",
    "except: pass\n",
    "\n",
    "sess=tf.Session()\n",
    "    \n",
    "writer = tf.summary.FileWriter(\"/home/wlwoon/tmp/day14log\", sess.graph)\n",
    "sess.run(tf.global_variables_initializer())\n",
    "\n",
    "es=[]\n",
    "for count in range(n_iter):\n",
    "        \n",
    "    _,tloss=sess.run([opt,loss],feed_dict={dk:.6,nx:xtrain,target:ytrain.reshape((-1,1))})\n",
    "      \n",
    "    if count % 50 ==0:\n",
    "        test_loss=sess.run(testloss,feed_dict={dk:1.0,nx:xtest,target:ytest.reshape((-1,1))})\n",
    "        print(\"iter #\"+str(count)+\", training loss is \"+str(tloss)+\", test loss is \"+str(test_loss))\n",
    "        es.append(test_loss)\n",
    "\n",
    "writer.flush()"
   ]
  },
  {
   "cell_type": "code",
   "execution_count": 180,
   "metadata": {
    "collapsed": false,
    "deletable": true,
    "editable": true
   },
   "outputs": [],
   "source": [
    "exec(\"es\"+str(next(counter))+\"=es\")"
   ]
  },
  {
   "cell_type": "code",
   "execution_count": 169,
   "metadata": {
    "collapsed": false,
    "deletable": true,
    "editable": true
   },
   "outputs": [
    {
     "data": {
      "text/plain": [
       "[<matplotlib.lines.Line2D at 0x7f94139ffda0>]"
      ]
     },
     "execution_count": 169,
     "metadata": {},
     "output_type": "execute_result"
    },
    {
     "data": {
      "image/png": "[encoded data removed]",
      "text/plain": [
       "<matplotlib.figure.Figure at 0x7f94139ffe10>"
      ]
     },
     "metadata": {},
     "output_type": "display_data"
    }
   ],
   "source": [
    "%matplotlib inline\n",
    "#pl.plot(es1)\n",
    "#pl.plot(es2,'r')\n",
    "#pl.plot(es3,'k--')\n",
    "pl.plot(es4,'r--')\n",
    "pl.plot(es7,'b--')\n"
   ]
  },
  {
   "cell_type": "code",
   "execution_count": 65,
   "metadata": {
    "collapsed": false
   },
   "outputs": [],
   "source": [
    "%matplotlib tk\n",
    "z=sess.run(acts[2],feed_dict={dk:1,nx:xtest})"
   ]
  },
  {
   "cell_type": "code",
   "execution_count": 67,
   "metadata": {
    "collapsed": false
   },
   "outputs": [
    {
     "data": {
      "text/plain": [
       "array([0.47141473, 0.24870801, 0.58187984, 0.84366925, 0.44266796,\n",
       "       0.65423127, 0.66602067, 0.62112403, 0.27664729, 0.59593023,\n",
       "       0.60206718, 0.7495155 , 0.81476098, 0.6498708 , 0.59786822,\n",
       "       0.25242248, 0.82784238, 0.31605297, 0.31524548, 0.50726744,\n",
       "       0.64518734, 0.69928941, 0.75113049, 0.47076873, 0.51082041,\n",
       "       0.60723514, 0.56895995, 0.54602713, 0.29505814, 0.33301034,\n",
       "       0.8628876 , 0.77955426])"
      ]
     },
     "execution_count": 67,
     "metadata": {},
     "output_type": "execute_result"
    }
   ],
   "source": [
    "z=sess.run(acts[2],feed_dict={dk:1,nx:xtest})\n",
    "((z<0).sum(axis=0))/z.shape[0]"
   ]
  },
  {
   "cell_type": "code",
   "execution_count": 27,
   "metadata": {
    "collapsed": false,
    "deletable": true,
    "editable": true
   },
   "outputs": [
    {
     "ename": "SyntaxError",
     "evalue": "invalid syntax (<ipython-input-27-20048e104192>, line 14)",
     "output_type": "error",
     "traceback": [
      "\u001b[0;36m  File \u001b[0;32m\"<ipython-input-27-20048e104192>\"\u001b[0;36m, line \u001b[0;32m14\u001b[0m\n\u001b[0;31m    pl.hist(sess.run(acts[2],feed_dict={dk:1,nx_xtest}))\u001b[0m\n\u001b[0m                                                     ^\u001b[0m\n\u001b[0;31mSyntaxError\u001b[0m\u001b[0;31m:\u001b[0m invalid syntax\n"
     ]
    }
   ],
   "source": [
    "#sess=tf.Session();sess.run(tf.global_variables_initializer())\n",
    "g=tf.get_default_graph()\n",
    "acts=[g.get_tensor_by_name(name='a'+str(tmp)+\":0\") for tmp in range(5)]\n",
    "\n",
    "pl.figure(figsize=(16,5))\n",
    "for tmp in range(5):\n",
    "    pl.subplot(1,5,tmp+1)\n",
    "    foo=pl.hist(sess.run(acts[tmp],feed_dict={dk:1,nx:xtest}).flatten(),bins=50)\n",
    "    pl.gca().set_yticks([])\n",
    "    pl.grid('on')\n",
    "    \n",
    "pl.show()\n",
    "\n"
   ]
  },
  {
   "cell_type": "code",
   "execution_count": 38,
   "metadata": {
    "collapsed": true,
    "deletable": true,
    "editable": true
   },
   "outputs": [],
   "source": [
    "?ca.set_xticks"
   ]
  },
  {
   "cell_type": "code",
   "execution_count": 130,
   "metadata": {
    "collapsed": false,
    "deletable": true,
    "editable": true
   },
   "outputs": [
    {
     "data": {
      "text/plain": [
       "array([ 1.02065714,  0.99876618,  0.84249565,  0.74652804,  1.00117305,\n",
       "        1.54552267,  1.00237812,  0.99950791])"
      ]
     },
     "execution_count": 130,
     "metadata": {},
     "output_type": "execute_result"
    }
   ],
   "source": [
    "np.mean(ytest**2)\n",
    "np.std(xtest,axis=0)"
   ]
  }
 ],
 "metadata": {
  "anaconda-cloud": {},
  "kernelspec": {
   "display_name": "Python [default]",
   "language": "python",
   "name": "python3"
  },
  "language_info": {
   "codemirror_mode": {
    "name": "ipython",
    "version": 3
   },
   "file_extension": ".py",
   "mimetype": "text/x-python",
   "name": "python",
   "nbconvert_exporter": "python",
   "pygments_lexer": "ipython3",
   "version": "3.5.2"
  }
 },
 "nbformat": 4,
 "nbformat_minor": 1
}

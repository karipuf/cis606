{
 "cells": [
  {
   "cell_type": "code",
   "execution_count": 6,
   "metadata": {
    "collapsed": true
   },
   "outputs": [],
   "source": [
    "import pdb\n",
    "import tensorflow as tf\n",
    "import numpy as np\n",
    "import pylab as pl\n",
    "import pandas as pd\n",
    "\n",
    "counter=iter(range(10000))\n",
    "\n",
    "%matplotlib inline"
   ]
  },
  {
   "cell_type": "code",
   "execution_count": 7,
   "metadata": {
    "collapsed": true
   },
   "outputs": [],
   "source": [
    "from sklearn.datasets import california_housing\n",
    "from sklearn.ensemble import RandomForestRegressor\n",
    "from sklearn.model_selection import train_test_split\n",
    "from sklearn.preprocessing import scale"
   ]
  },
  {
   "cell_type": "code",
   "execution_count": 8,
   "metadata": {},
   "outputs": [],
   "source": [
    "california=california_housing.fetch_california_housing()"
   ]
  },
  {
   "cell_type": "code",
   "execution_count": 9,
   "metadata": {
    "collapsed": true
   },
   "outputs": [],
   "source": [
    "x=scale(california['data'])\n",
    "y=california['target']\n",
    "\n",
    "x=(x-np.mean(x,axis=0))/np.std(x,axis=0)\n",
    "y=(y-np.mean(y))/np.std(y)\n",
    "\n",
    "#df=pd.DataFrame(x,columns=california['feature_names'])"
   ]
  },
  {
   "cell_type": "code",
   "execution_count": 10,
   "metadata": {
    "code_folding": [],
    "collapsed": true
   },
   "outputs": [],
   "source": [
    "# Splitting into train and test sets\n",
    "\n",
    "xtrain,xtest,ytrain,ytest=train_test_split(x,y,test_size=0.3)"
   ]
  },
  {
   "cell_type": "markdown",
   "metadata": {},
   "source": [
    "# Random Forest regressor\n",
    "\n",
    "* Benchmark system\n",
    "* RF generally gives great performance for problems like this"
   ]
  },
  {
   "cell_type": "code",
   "execution_count": 11,
   "metadata": {},
   "outputs": [
    {
     "data": {
      "text/plain": [
       "(14448, 8)"
      ]
     },
     "execution_count": 11,
     "metadata": {},
     "output_type": "execute_result"
    }
   ],
   "source": [
    "xtrain.shape"
   ]
  },
  {
   "cell_type": "code",
   "execution_count": 12,
   "metadata": {
    "collapsed": true
   },
   "outputs": [],
   "source": [
    "rf=RandomForestRegressor(n_estimators=100).fit(xtrain,ytrain)"
   ]
  },
  {
   "cell_type": "code",
   "execution_count": 13,
   "metadata": {},
   "outputs": [
    {
     "data": {
      "text/plain": [
       "0.19237042322183462"
      ]
     },
     "execution_count": 13,
     "metadata": {},
     "output_type": "execute_result"
    }
   ],
   "source": [
    "# MSE Error\n",
    "np.mean((rf.predict(xtest)-ytest)**2)"
   ]
  },
  {
   "cell_type": "markdown",
   "metadata": {},
   "source": [
    "# \"Deep\" Neural Network\n",
    "\n",
    "* Two hidden layers\n",
    "* Investigate the effect of different params"
   ]
  },
  {
   "cell_type": "code",
   "execution_count": 14,
   "metadata": {
    "collapsed": true
   },
   "outputs": [],
   "source": [
    "nhidden1=250\n",
    "nhidden2=200\n",
    "n_iter=1000\n",
    "activation=tf.nn.relu\n",
    "#activation=tf.nn.sigmoid"
   ]
  },
  {
   "cell_type": "code",
   "execution_count": 143,
   "metadata": {
    "collapsed": true
   },
   "outputs": [],
   "source": [
    "def CreateDN(x,dropKeep,numUnits,resConns=[]):\n",
    "   \n",
    "    # Setting things up\n",
    "    nIn=int(x.shape[1])\n",
    "    y=x\n",
    "    l2=0\n",
    "    \n",
    "    for layer in range(len(numUnits)):\n",
    "        \n",
    "        if layer in resConns:\n",
    "            w=tf.get_variable(\"foo\"+str(layer),initializer=tf.glorot_normal_initializer(),shape=(nIn,numUnits[layer]))\n",
    "            w=tf.divide(w,2.,name=\"w\"+str(layer))\n",
    "        else:\n",
    "            w=tf.get_variable(\"w\"+str(layer),initializer=tf.glorot_uniform_initializer(),shape=(nIn,numUnits[layer]))\n",
    "            #w=tf.get_variable(\"w\"+str(layer),initializer=tf.truncated_normal_initializer(stddev=.001),shape=(nIn,numUnits[layer]))\n",
    "            #w=tf.divide(w,2.,name=\"w\"+str(layer))\n",
    "\n",
    "        b=tf.get_variable('b'+str(layer),initializer=tf.zeros_initializer(),shape=(numUnits[layer]))\n",
    "        \n",
    "        #print(w)\n",
    "        \n",
    "        if layer in resConns:\n",
    "            a=tf.add(tf.add(tf.matmul(y,w),b),y,name=\"a\"+str(layer))\n",
    "        else:\n",
    "            a=tf.add(tf.matmul(y,w),b,name=\"a\"+str(layer))\n",
    "        \n",
    "        #tmpmean=tf.Variable(tf.zeros((1,numUnits[layer])))\n",
    "        #tmpvar=tf.Variable(tf.ones((1,numUnits[layer])))\n",
    "        #a=tf.nn.batch_normalization(a,tmpmean,tmpvar,None,None,0.000000000001,name=\"a\"+str(layer))\n",
    "        #print(str(a))\n",
    "        \n",
    "        if layer==len(numUnits)-1:\n",
    "            y=a\n",
    "        else:\n",
    "            y=tf.nn.elu(a)\n",
    "            y=tf.nn.dropout(y,keep_prob=dropKeep)\n",
    "    \n",
    "        l2+=tf.reduce_sum(w**2)\n",
    "    \n",
    "        # Prepping for next layer, if present\n",
    "        nIn=numUnits[layer]\n",
    "        \n",
    "    return y,l2"
   ]
  },
  {
   "cell_type": "code",
   "execution_count": 144,
   "metadata": {},
   "outputs": [],
   "source": [
    "tf.reset_default_graph()\n",
    "\n",
    "n_iter=2000\n",
    "\n",
    "nx=tf.placeholder(tf.float32,(None,8))\n",
    "dk=tf.placeholder(tf.float32,())\n",
    "target=tf.placeholder(tf.float32,(None,1))\n",
    "\n",
    "#ny,l2=CreateDN(nx,dk,[256,256,64,1]) # <- this one already gives better results that RF\n",
    "#ny,l2=CreateDN(nx,dk,[256,256,256,256,64,1],resConns=[2,3])\n",
    "ny,l2=CreateDN(nx,dk,[128,64,32,32,1]) #,resConns=[4])\n",
    "\n",
    "testloss=tf.losses.mean_squared_error(ny,target)\n",
    "loss=testloss+l2*.0\n",
    "opt=tf.train.AdamOptimizer(learning_rate=.01).minimize(loss)"
   ]
  },
  {
   "cell_type": "code",
   "execution_count": 145,
   "metadata": {
    "code_folding": []
   },
   "outputs": [
    {
     "name": "stdout",
     "output_type": "stream",
     "text": [
      "iter #0, training loss is 1.71983, test loss is 0.51568\n",
      "iter #50, training loss is 0.350469, test loss is 0.293947\n",
      "iter #100, training loss is 0.326874, test loss is 0.280564\n",
      "iter #150, training loss is 0.315396, test loss is 0.272566\n",
      "iter #200, training loss is 0.313289, test loss is 0.267799\n",
      "iter #250, training loss is 0.311411, test loss is 0.262919\n",
      "iter #300, training loss is 0.306697, test loss is 0.261698\n",
      "iter #350, training loss is 0.299409, test loss is 0.257491\n",
      "iter #400, training loss is 0.300469, test loss is 0.258921\n",
      "iter #450, training loss is 0.2975, test loss is 0.248668\n",
      "iter #500, training loss is 0.292624, test loss is 0.246293\n",
      "iter #550, training loss is 0.285688, test loss is 0.241023\n",
      "iter #600, training loss is 0.288215, test loss is 0.23851\n",
      "iter #650, training loss is 0.281579, test loss is 0.239628\n",
      "iter #700, training loss is 0.281639, test loss is 0.23584\n",
      "iter #750, training loss is 0.2795, test loss is 0.233397\n",
      "iter #800, training loss is 0.278481, test loss is 0.23425\n",
      "iter #850, training loss is 0.277139, test loss is 0.231716\n",
      "iter #900, training loss is 0.287715, test loss is 0.230262\n",
      "iter #950, training loss is 0.274652, test loss is 0.231256\n",
      "iter #1000, training loss is 0.273147, test loss is 0.22994\n",
      "iter #1050, training loss is 0.271439, test loss is 0.228213\n",
      "iter #1100, training loss is 0.275912, test loss is 0.228973\n",
      "iter #1150, training loss is 0.269739, test loss is 0.225087\n",
      "iter #1200, training loss is 0.269978, test loss is 0.224501\n",
      "iter #1250, training loss is 0.270844, test loss is 0.234211\n",
      "iter #1300, training loss is 0.270683, test loss is 0.223035\n",
      "iter #1350, training loss is 0.268164, test loss is 0.224706\n",
      "iter #1400, training loss is 0.264171, test loss is 0.222696\n",
      "iter #1450, training loss is 0.265445, test loss is 0.221992\n",
      "iter #1500, training loss is 0.266786, test loss is 0.220391\n",
      "iter #1550, training loss is 0.262383, test loss is 0.219873\n",
      "iter #1600, training loss is 0.262652, test loss is 0.22091\n",
      "iter #1650, training loss is 0.261537, test loss is 0.219524\n",
      "iter #1700, training loss is 0.260699, test loss is 0.219964\n",
      "iter #1750, training loss is 0.259291, test loss is 0.21945\n",
      "iter #1800, training loss is 0.26118, test loss is 0.225199\n",
      "iter #1850, training loss is 0.257814, test loss is 0.218942\n",
      "iter #1900, training loss is 0.266338, test loss is 0.217873\n",
      "iter #1950, training loss is 0.261376, test loss is 0.225635\n"
     ]
    }
   ],
   "source": [
    "try: sess.close()\n",
    "except: pass\n",
    "\n",
    "sess=tf.Session()\n",
    "    \n",
    "writer = tf.summary.FileWriter(\"/home/wlwoon/tmp/day14log\", sess.graph)\n",
    "sess.run(tf.global_variables_initializer())\n",
    "\n",
    "es=[]\n",
    "for count in range(n_iter):\n",
    "        \n",
    "    _,tloss=sess.run([opt,loss],feed_dict={dk:.6,nx:xtrain,target:ytrain.reshape((-1,1))})\n",
    "      \n",
    "    if count % 50 ==0:\n",
    "        test_loss=sess.run(testloss,feed_dict={dk:1.0,nx:xtest,target:ytest.reshape((-1,1))})\n",
    "        print(\"iter #\"+str(count)+\", training loss is \"+str(tloss)+\", test loss is \"+str(test_loss))\n",
    "        es.append(test_loss)\n",
    "\n",
    "writer.flush()"
   ]
  },
  {
   "cell_type": "code",
   "execution_count": 142,
   "metadata": {},
   "outputs": [
    {
     "data": {
      "image/png": "[encoded data removed]",
      "text/plain": [
       "<matplotlib.figure.Figure at 0x7f15665b0ac8>"
      ]
     },
     "metadata": {},
     "output_type": "display_data"
    },
    {
     "name": "stdout",
     "output_type": "stream",
     "text": [
      "iter #0, training loss is 0.306305, test loss is 0.26161\n"
     ]
    }
   ],
   "source": [
    "# Visualize activations\n",
    "#sess.close();sess=tf.Session();sess.run(tf.global_variables_initializer());counter=iter(range(1000))\n",
    "\n",
    "g=tf.get_default_graph()\n",
    "acts=[g.get_tensor_by_name(name='a'+str(tmp)+\":0\") for tmp in range(5)]\n",
    "wts=[g.get_tensor_by_name(name='w'+str(tmp)+\":0\") for tmp in range(5)]\n",
    "\n",
    "z=pl.figure(figsize=(16,5))\n",
    "for tmp in range(5):\n",
    "    pl.subplot(1,5,tmp+1)\n",
    "    #foo=pl.hist(sess.run(acts[tmp],feed_dict={dk:1,nx:xtest}).flatten(),bins=50)\n",
    "    foo=pl.plot(sess.run(wts[tmp]).flatten()); #,feed_dict={dk:1,nx:xtest}).flatten())\n",
    "    pl.gca().set_yticks([])\n",
    "    #pl.axis(xmin=-3,xmax=3,ymin=-2,ymax=2) # for activations\n",
    "    pl.axis(xmin=0,ymin=-.5,ymax=.5) # for weights\n",
    "    pl.grid('on')\n",
    "    \n",
    "pl.show()\n",
    "z.savefig('f'+str(next(counter))+'png')\n",
    "\n",
    "n_iter=50\n",
    "\n",
    "es=[]\n",
    "for count in range(n_iter):\n",
    "        \n",
    "    _,tloss=sess.run([opt,loss],feed_dict={dk:.6,nx:xtrain,target:ytrain.reshape((-1,1))})\n",
    "      \n",
    "    if count % 50 ==0:\n",
    "        test_loss=sess.run(testloss,feed_dict={dk:1.0,nx:xtest,target:ytest.reshape((-1,1))})\n",
    "        print(\"iter #\"+str(count)+\", training loss is \"+str(tloss)+\", test loss is \"+str(test_loss))\n",
    "        es.append(test_loss)\n",
    "\n",
    "writer.flush()"
   ]
  },
  {
   "cell_type": "code",
   "execution_count": 96,
   "metadata": {},
   "outputs": [
    {
     "data": {
      "text/plain": [
       "(1024,)"
      ]
     },
     "execution_count": 96,
     "metadata": {},
     "output_type": "execute_result"
    }
   ],
   "source": [
    "sess.run(wts[0]).flatten().shape"
   ]
  },
  {
   "cell_type": "code",
   "execution_count": 180,
   "metadata": {},
   "outputs": [],
   "source": [
    "exec(\"es\"+str(next(counter))+\"=es\")"
   ]
  },
  {
   "cell_type": "code",
   "execution_count": 169,
   "metadata": {},
   "outputs": [
    {
     "data": {
      "text/plain": [
       "[<matplotlib.lines.Line2D at 0x7f94139ffda0>]"
      ]
     },
     "execution_count": 169,
     "metadata": {},
     "output_type": "execute_result"
    },
    {
     "data": {
      "image/png": "[encoded data removed]",
      "text/plain": [
       "<matplotlib.figure.Figure at 0x7f94139ffe10>"
      ]
     },
     "metadata": {},
     "output_type": "display_data"
    }
   ],
   "source": [
    "%matplotlib inline\n",
    "#pl.plot(es1)\n",
    "#pl.plot(es2,'r')\n",
    "#pl.plot(es3,'k--')\n",
    "pl.plot(es4,'r--')\n",
    "pl.plot(es7,'b--')\n"
   ]
  },
  {
   "cell_type": "code",
   "execution_count": 65,
   "metadata": {},
   "outputs": [],
   "source": [
    "%matplotlib tk\n",
    "z=sess.run(acts[2],feed_dict={dk:1,nx:xtest})"
   ]
  },
  {
   "cell_type": "code",
   "execution_count": 67,
   "metadata": {},
   "outputs": [
    {
     "data": {
      "text/plain": [
       "array([0.47141473, 0.24870801, 0.58187984, 0.84366925, 0.44266796,\n",
       "       0.65423127, 0.66602067, 0.62112403, 0.27664729, 0.59593023,\n",
       "       0.60206718, 0.7495155 , 0.81476098, 0.6498708 , 0.59786822,\n",
       "       0.25242248, 0.82784238, 0.31605297, 0.31524548, 0.50726744,\n",
       "       0.64518734, 0.69928941, 0.75113049, 0.47076873, 0.51082041,\n",
       "       0.60723514, 0.56895995, 0.54602713, 0.29505814, 0.33301034,\n",
       "       0.8628876 , 0.77955426])"
      ]
     },
     "execution_count": 67,
     "metadata": {},
     "output_type": "execute_result"
    }
   ],
   "source": [
    "z=sess.run(acts[2],feed_dict={dk:1,nx:xtest})\n",
    "((z<0).sum(axis=0))/z.shape[0]"
   ]
  },
  {
   "cell_type": "code",
   "execution_count": 27,
   "metadata": {},
   "outputs": [
    {
     "ename": "SyntaxError",
     "evalue": "invalid syntax (<ipython-input-27-20048e104192>, line 14)",
     "output_type": "error",
     "traceback": [
      "\u001b[0;36m  File \u001b[0;32m\"<ipython-input-27-20048e104192>\"\u001b[0;36m, line \u001b[0;32m14\u001b[0m\n\u001b[0;31m    pl.hist(sess.run(acts[2],feed_dict={dk:1,nx_xtest}))\u001b[0m\n\u001b[0m                                                     ^\u001b[0m\n\u001b[0;31mSyntaxError\u001b[0m\u001b[0;31m:\u001b[0m invalid syntax\n"
     ]
    }
   ],
   "source": [
    "#sess=tf.Session();sess.run(tf.global_variables_initializer())\n",
    "g=tf.get_default_graph()\n",
    "acts=[g.get_tensor_by_name(name='a'+str(tmp)+\":0\") for tmp in range(5)]\n",
    "\n",
    "pl.figure(figsize=(16,5))\n",
    "for tmp in range(5):\n",
    "    pl.subplot(1,5,tmp+1)\n",
    "    foo=pl.hist(sess.run(acts[tmp],feed_dict={dk:1,nx:xtest}).flatten(),bins=50)\n",
    "    pl.gca().set_yticks([])\n",
    "    pl.grid('on')\n",
    "    \n",
    "pl.show()\n",
    "\n"
   ]
  },
  {
   "cell_type": "code",
   "execution_count": 38,
   "metadata": {
    "collapsed": true
   },
   "outputs": [],
   "source": [
    "?ca.set_xticks"
   ]
  },
  {
   "cell_type": "code",
   "execution_count": 130,
   "metadata": {},
   "outputs": [
    {
     "data": {
      "text/plain": [
       "array([ 1.02065714,  0.99876618,  0.84249565,  0.74652804,  1.00117305,\n",
       "        1.54552267,  1.00237812,  0.99950791])"
      ]
     },
     "execution_count": 130,
     "metadata": {},
     "output_type": "execute_result"
    }
   ],
   "source": [
    "np.mean(ytest**2)\n",
    "np.std(xtest,axis=0)"
   ]
  }
 ],
 "metadata": {
  "anaconda-cloud": {},
  "kernelspec": {
   "display_name": "Python 3",
   "language": "python",
   "name": "python3"
  },
  "language_info": {
   "codemirror_mode": {
    "name": "ipython",
    "version": 3
   },
   "file_extension": ".py",
   "mimetype": "text/x-python",
   "name": "python",
   "nbconvert_exporter": "python",
   "pygments_lexer": "ipython3",
   "version": "3.6.2"
  }
 },
 "nbformat": 4,
 "nbformat_minor": 1
}

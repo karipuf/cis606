{
 "cells": [
  {
   "cell_type": "code",
   "execution_count": 6,
   "metadata": {
    "collapsed": true
   },
   "outputs": [],
   "source": [
    "import pdb\n",
    "import tensorflow as tf\n",
    "import numpy as np\n",
    "import pylab as pl\n",
    "import pandas as pd\n",
    "\n",
    "counter=iter(range(10000))\n",
    "\n",
    "%matplotlib inline"
   ]
  },
  {
   "cell_type": "code",
   "execution_count": 7,
   "metadata": {
    "collapsed": true
   },
   "outputs": [],
   "source": [
    "from sklearn.datasets import california_housing\n",
    "from sklearn.ensemble import RandomForestRegressor\n",
    "from sklearn.model_selection import train_test_split\n",
    "from sklearn.preprocessing import scale"
   ]
  },
  {
   "cell_type": "code",
   "execution_count": 8,
   "metadata": {},
   "outputs": [],
   "source": [
    "california=california_housing.fetch_california_housing()"
   ]
  },
  {
   "cell_type": "code",
   "execution_count": 9,
   "metadata": {
    "collapsed": true
   },
   "outputs": [],
   "source": [
    "x=scale(california['data'])\n",
    "y=california['target']\n",
    "\n",
    "x=(x-np.mean(x,axis=0))/np.std(x,axis=0)\n",
    "y=(y-np.mean(y))/np.std(y)\n",
    "\n",
    "#df=pd.DataFrame(x,columns=california['feature_names'])"
   ]
  },
  {
   "cell_type": "code",
   "execution_count": 10,
   "metadata": {
    "code_folding": [],
    "collapsed": true
   },
   "outputs": [],
   "source": [
    "# Splitting into train and test sets\n",
    "\n",
    "xtrain,xtest,ytrain,ytest=train_test_split(x,y,test_size=0.3)"
   ]
  },
  {
   "cell_type": "markdown",
   "metadata": {},
   "source": [
    "# Random Forest regressor\n",
    "\n",
    "* Benchmark system\n",
    "* RF generally gives great performance for problems like this"
   ]
  },
  {
   "cell_type": "code",
   "execution_count": 11,
   "metadata": {},
   "outputs": [
    {
     "data": {
      "text/plain": [
       "(14448, 8)"
      ]
     },
     "execution_count": 11,
     "metadata": {},
     "output_type": "execute_result"
    }
   ],
   "source": [
    "xtrain.shape"
   ]
  },
  {
   "cell_type": "code",
   "execution_count": 12,
   "metadata": {
    "collapsed": true
   },
   "outputs": [],
   "source": [
    "rf=RandomForestRegressor(n_estimators=100).fit(xtrain,ytrain)"
   ]
  },
  {
   "cell_type": "code",
   "execution_count": 13,
   "metadata": {},
   "outputs": [
    {
     "data": {
      "text/plain": [
       "0.19237042322183462"
      ]
     },
     "execution_count": 13,
     "metadata": {},
     "output_type": "execute_result"
    }
   ],
   "source": [
    "# MSE Error\n",
    "np.mean((rf.predict(xtest)-ytest)**2)"
   ]
  },
  {
   "cell_type": "markdown",
   "metadata": {},
   "source": [
    "# \"Deep\" Neural Network\n",
    "\n",
    "* Two hidden layers\n",
    "* Investigate the effect of different params"
   ]
  },
  {
   "cell_type": "code",
   "execution_count": 14,
   "metadata": {
    "collapsed": true
   },
   "outputs": [],
   "source": [
    "nhidden1=250\n",
    "nhidden2=200\n",
    "n_iter=1000\n",
    "activation=tf.nn.relu\n",
    "#activation=tf.nn.sigmoid"
   ]
  },
  {
   "cell_type": "code",
   "execution_count": 15,
   "metadata": {
    "collapsed": true
   },
   "outputs": [],
   "source": [
    "def CreateDN(x,dropKeep,numUnits,resConns=[]):\n",
    "   \n",
    "    # Setting things up\n",
    "    nIn=int(x.shape[1])\n",
    "    y=x\n",
    "    l2=0\n",
    "    \n",
    "    for layer in range(len(numUnits)):\n",
    "        \n",
    "        if layer in resConns:\n",
    "            w=tf.get_variable(\"foo\"+str(layer),initializer=tf.glorot_normal_initializer(),shape=(nIn,numUnits[layer]))\n",
    "            w=tf.divide(w,2.,name=\"w\"+str(layer))\n",
    "        else:\n",
    "            w=tf.get_variable(\"w\"+str(layer),initializer=tf.glorot_normal_initializer(),shape=(nIn,numUnits[layer]))\n",
    "            #w=tf.divide(w,2.,name=\"w\"+str(layer))\n",
    "\n",
    "        b=tf.get_variable('b'+str(layer),initializer=tf.zeros_initializer(),shape=(numUnits[layer]))\n",
    "        \n",
    "        #print(w)\n",
    "        \n",
    "        if layer in resConns:\n",
    "            a=tf.add(tf.add(tf.matmul(y,w),b),y,name=\"a\"+str(layer))\n",
    "        else:\n",
    "            a=tf.add(tf.matmul(y,w),b,name=\"a\"+str(layer))\n",
    "        \n",
    "        #tmpmean=tf.Variable(tf.zeros((1,numUnits[layer])))\n",
    "        #tmpvar=tf.Variable(tf.ones((1,numUnits[layer])))\n",
    "        #a=tf.nn.batch_normalization(a,tmpmean,tmpvar,None,None,0.000000000001,name=\"a\"+str(layer))\n",
    "        #print(str(a))\n",
    "        \n",
    "        if layer==len(numUnits)-1:\n",
    "            y=a\n",
    "        else:\n",
    "            y=tf.nn.elu(a)\n",
    "            y=tf.nn.dropout(y,keep_prob=dropKeep)\n",
    "    \n",
    "        l2+=tf.reduce_sum(w**2)\n",
    "    \n",
    "        # Prepping for next layer, if present\n",
    "        nIn=numUnits[layer]\n",
    "        \n",
    "    return y,l2"
   ]
  },
  {
   "cell_type": "code",
   "execution_count": 34,
   "metadata": {},
   "outputs": [],
   "source": [
    "tf.reset_default_graph()\n",
    "\n",
    "n_iter=2000\n",
    "\n",
    "nx=tf.placeholder(tf.float32,(None,8))\n",
    "dk=tf.placeholder(tf.float32,())\n",
    "target=tf.placeholder(tf.float32,(None,1))\n",
    "\n",
    "#ny,l2=CreateDN(nx,dk,[256,256,64,1]) # <- this one already gives better results that RF\n",
    "#ny,l2=CreateDN(nx,dk,[256,256,256,256,64,1],resConns=[2,3])\n",
    "ny,l2=CreateDN(nx,dk,[128,64,32,32,1]) #,resConns=[4])\n",
    "\n",
    "testloss=tf.losses.mean_squared_error(ny,target)\n",
    "loss=testloss+l2*.0\n",
    "opt=tf.train.AdamOptimizer(learning_rate=.01).minimize(loss)"
   ]
  },
  {
   "cell_type": "code",
   "execution_count": 41,
   "metadata": {
    "code_folding": []
   },
   "outputs": [
    {
     "name": "stdout",
     "output_type": "stream",
     "text": [
      "iter #0, training loss is 1.07391, test loss is 0.615397\n",
      "iter #50, training loss is 0.343715, test loss is 0.292776\n"
     ]
    },
    {
     "ename": "KeyboardInterrupt",
     "evalue": "",
     "output_type": "error",
     "traceback": [
      "\u001b[0;31m---------------------------------------------------------------------------\u001b[0m",
      "\u001b[0;31mKeyboardInterrupt\u001b[0m                         Traceback (most recent call last)",
      "\u001b[0;32m<ipython-input-41-61c5d9bcdc5a>\u001b[0m in \u001b[0;36m<module>\u001b[0;34m()\u001b[0m\n\u001b[1;32m     10\u001b[0m \u001b[0;32mfor\u001b[0m \u001b[0mcount\u001b[0m \u001b[0;32min\u001b[0m \u001b[0mrange\u001b[0m\u001b[0;34m(\u001b[0m\u001b[0mn_iter\u001b[0m\u001b[0;34m)\u001b[0m\u001b[0;34m:\u001b[0m\u001b[0;34m\u001b[0m\u001b[0m\n\u001b[1;32m     11\u001b[0m \u001b[0;34m\u001b[0m\u001b[0m\n\u001b[0;32m---> 12\u001b[0;31m     \u001b[0m_\u001b[0m\u001b[0;34m,\u001b[0m\u001b[0mtloss\u001b[0m\u001b[0;34m=\u001b[0m\u001b[0msess\u001b[0m\u001b[0;34m.\u001b[0m\u001b[0mrun\u001b[0m\u001b[0;34m(\u001b[0m\u001b[0;34m[\u001b[0m\u001b[0mopt\u001b[0m\u001b[0;34m,\u001b[0m\u001b[0mloss\u001b[0m\u001b[0;34m]\u001b[0m\u001b[0;34m,\u001b[0m\u001b[0mfeed_dict\u001b[0m\u001b[0;34m=\u001b[0m\u001b[0;34m{\u001b[0m\u001b[0mdk\u001b[0m\u001b[0;34m:\u001b[0m\u001b[0;36m.6\u001b[0m\u001b[0;34m,\u001b[0m\u001b[0mnx\u001b[0m\u001b[0;34m:\u001b[0m\u001b[0mxtrain\u001b[0m\u001b[0;34m,\u001b[0m\u001b[0mtarget\u001b[0m\u001b[0;34m:\u001b[0m\u001b[0mytrain\u001b[0m\u001b[0;34m.\u001b[0m\u001b[0mreshape\u001b[0m\u001b[0;34m(\u001b[0m\u001b[0;34m(\u001b[0m\u001b[0;34m-\u001b[0m\u001b[0;36m1\u001b[0m\u001b[0;34m,\u001b[0m\u001b[0;36m1\u001b[0m\u001b[0;34m)\u001b[0m\u001b[0;34m)\u001b[0m\u001b[0;34m}\u001b[0m\u001b[0;34m)\u001b[0m\u001b[0;34m\u001b[0m\u001b[0m\n\u001b[0m\u001b[1;32m     13\u001b[0m \u001b[0;34m\u001b[0m\u001b[0m\n\u001b[1;32m     14\u001b[0m     \u001b[0;32mif\u001b[0m \u001b[0mcount\u001b[0m \u001b[0;34m%\u001b[0m \u001b[0;36m50\u001b[0m \u001b[0;34m==\u001b[0m\u001b[0;36m0\u001b[0m\u001b[0;34m:\u001b[0m\u001b[0;34m\u001b[0m\u001b[0m\n",
      "\u001b[0;32m~/anaconda2/envs/py3/lib/python3.6/site-packages/tensorflow/python/client/session.py\u001b[0m in \u001b[0;36mrun\u001b[0;34m(self, fetches, feed_dict, options, run_metadata)\u001b[0m\n\u001b[1;32m    893\u001b[0m     \u001b[0;32mtry\u001b[0m\u001b[0;34m:\u001b[0m\u001b[0;34m\u001b[0m\u001b[0m\n\u001b[1;32m    894\u001b[0m       result = self._run(None, fetches, feed_dict, options_ptr,\n\u001b[0;32m--> 895\u001b[0;31m                          run_metadata_ptr)\n\u001b[0m\u001b[1;32m    896\u001b[0m       \u001b[0;32mif\u001b[0m \u001b[0mrun_metadata\u001b[0m\u001b[0;34m:\u001b[0m\u001b[0;34m\u001b[0m\u001b[0m\n\u001b[1;32m    897\u001b[0m         \u001b[0mproto_data\u001b[0m \u001b[0;34m=\u001b[0m \u001b[0mtf_session\u001b[0m\u001b[0;34m.\u001b[0m\u001b[0mTF_GetBuffer\u001b[0m\u001b[0;34m(\u001b[0m\u001b[0mrun_metadata_ptr\u001b[0m\u001b[0;34m)\u001b[0m\u001b[0;34m\u001b[0m\u001b[0m\n",
      "\u001b[0;32m~/anaconda2/envs/py3/lib/python3.6/site-packages/tensorflow/python/client/session.py\u001b[0m in \u001b[0;36m_run\u001b[0;34m(self, handle, fetches, feed_dict, options, run_metadata)\u001b[0m\n\u001b[1;32m   1122\u001b[0m     \u001b[0;32mif\u001b[0m \u001b[0mfinal_fetches\u001b[0m \u001b[0;32mor\u001b[0m \u001b[0mfinal_targets\u001b[0m \u001b[0;32mor\u001b[0m \u001b[0;34m(\u001b[0m\u001b[0mhandle\u001b[0m \u001b[0;32mand\u001b[0m \u001b[0mfeed_dict_tensor\u001b[0m\u001b[0;34m)\u001b[0m\u001b[0;34m:\u001b[0m\u001b[0;34m\u001b[0m\u001b[0m\n\u001b[1;32m   1123\u001b[0m       results = self._do_run(handle, final_targets, final_fetches,\n\u001b[0;32m-> 1124\u001b[0;31m                              feed_dict_tensor, options, run_metadata)\n\u001b[0m\u001b[1;32m   1125\u001b[0m     \u001b[0;32melse\u001b[0m\u001b[0;34m:\u001b[0m\u001b[0;34m\u001b[0m\u001b[0m\n\u001b[1;32m   1126\u001b[0m       \u001b[0mresults\u001b[0m \u001b[0;34m=\u001b[0m \u001b[0;34m[\u001b[0m\u001b[0;34m]\u001b[0m\u001b[0;34m\u001b[0m\u001b[0m\n",
      "\u001b[0;32m~/anaconda2/envs/py3/lib/python3.6/site-packages/tensorflow/python/client/session.py\u001b[0m in \u001b[0;36m_do_run\u001b[0;34m(self, handle, target_list, fetch_list, feed_dict, options, run_metadata)\u001b[0m\n\u001b[1;32m   1319\u001b[0m     \u001b[0;32mif\u001b[0m \u001b[0mhandle\u001b[0m \u001b[0;32mis\u001b[0m \u001b[0;32mNone\u001b[0m\u001b[0;34m:\u001b[0m\u001b[0;34m\u001b[0m\u001b[0m\n\u001b[1;32m   1320\u001b[0m       return self._do_call(_run_fn, self._session, feeds, fetches, targets,\n\u001b[0;32m-> 1321\u001b[0;31m                            options, run_metadata)\n\u001b[0m\u001b[1;32m   1322\u001b[0m     \u001b[0;32melse\u001b[0m\u001b[0;34m:\u001b[0m\u001b[0;34m\u001b[0m\u001b[0m\n\u001b[1;32m   1323\u001b[0m       \u001b[0;32mreturn\u001b[0m \u001b[0mself\u001b[0m\u001b[0;34m.\u001b[0m\u001b[0m_do_call\u001b[0m\u001b[0;34m(\u001b[0m\u001b[0m_prun_fn\u001b[0m\u001b[0;34m,\u001b[0m \u001b[0mself\u001b[0m\u001b[0;34m.\u001b[0m\u001b[0m_session\u001b[0m\u001b[0;34m,\u001b[0m \u001b[0mhandle\u001b[0m\u001b[0;34m,\u001b[0m \u001b[0mfeeds\u001b[0m\u001b[0;34m,\u001b[0m \u001b[0mfetches\u001b[0m\u001b[0;34m)\u001b[0m\u001b[0;34m\u001b[0m\u001b[0m\n",
      "\u001b[0;32m~/anaconda2/envs/py3/lib/python3.6/site-packages/tensorflow/python/client/session.py\u001b[0m in \u001b[0;36m_do_call\u001b[0;34m(self, fn, *args)\u001b[0m\n\u001b[1;32m   1325\u001b[0m   \u001b[0;32mdef\u001b[0m \u001b[0m_do_call\u001b[0m\u001b[0;34m(\u001b[0m\u001b[0mself\u001b[0m\u001b[0;34m,\u001b[0m \u001b[0mfn\u001b[0m\u001b[0;34m,\u001b[0m \u001b[0;34m*\u001b[0m\u001b[0margs\u001b[0m\u001b[0;34m)\u001b[0m\u001b[0;34m:\u001b[0m\u001b[0;34m\u001b[0m\u001b[0m\n\u001b[1;32m   1326\u001b[0m     \u001b[0;32mtry\u001b[0m\u001b[0;34m:\u001b[0m\u001b[0;34m\u001b[0m\u001b[0m\n\u001b[0;32m-> 1327\u001b[0;31m       \u001b[0;32mreturn\u001b[0m \u001b[0mfn\u001b[0m\u001b[0;34m(\u001b[0m\u001b[0;34m*\u001b[0m\u001b[0margs\u001b[0m\u001b[0;34m)\u001b[0m\u001b[0;34m\u001b[0m\u001b[0m\n\u001b[0m\u001b[1;32m   1328\u001b[0m     \u001b[0;32mexcept\u001b[0m \u001b[0merrors\u001b[0m\u001b[0;34m.\u001b[0m\u001b[0mOpError\u001b[0m \u001b[0;32mas\u001b[0m \u001b[0me\u001b[0m\u001b[0;34m:\u001b[0m\u001b[0;34m\u001b[0m\u001b[0m\n\u001b[1;32m   1329\u001b[0m       \u001b[0mmessage\u001b[0m \u001b[0;34m=\u001b[0m \u001b[0mcompat\u001b[0m\u001b[0;34m.\u001b[0m\u001b[0mas_text\u001b[0m\u001b[0;34m(\u001b[0m\u001b[0me\u001b[0m\u001b[0;34m.\u001b[0m\u001b[0mmessage\u001b[0m\u001b[0;34m)\u001b[0m\u001b[0;34m\u001b[0m\u001b[0m\n",
      "\u001b[0;32m~/anaconda2/envs/py3/lib/python3.6/site-packages/tensorflow/python/client/session.py\u001b[0m in \u001b[0;36m_run_fn\u001b[0;34m(session, feed_dict, fetch_list, target_list, options, run_metadata)\u001b[0m\n\u001b[1;32m   1304\u001b[0m           return tf_session.TF_Run(session, options,\n\u001b[1;32m   1305\u001b[0m                                    \u001b[0mfeed_dict\u001b[0m\u001b[0;34m,\u001b[0m \u001b[0mfetch_list\u001b[0m\u001b[0;34m,\u001b[0m \u001b[0mtarget_list\u001b[0m\u001b[0;34m,\u001b[0m\u001b[0;34m\u001b[0m\u001b[0m\n\u001b[0;32m-> 1306\u001b[0;31m                                    status, run_metadata)\n\u001b[0m\u001b[1;32m   1307\u001b[0m \u001b[0;34m\u001b[0m\u001b[0m\n\u001b[1;32m   1308\u001b[0m     \u001b[0;32mdef\u001b[0m \u001b[0m_prun_fn\u001b[0m\u001b[0;34m(\u001b[0m\u001b[0msession\u001b[0m\u001b[0;34m,\u001b[0m \u001b[0mhandle\u001b[0m\u001b[0;34m,\u001b[0m \u001b[0mfeed_dict\u001b[0m\u001b[0;34m,\u001b[0m \u001b[0mfetch_list\u001b[0m\u001b[0;34m)\u001b[0m\u001b[0;34m:\u001b[0m\u001b[0;34m\u001b[0m\u001b[0m\n",
      "\u001b[0;31mKeyboardInterrupt\u001b[0m: "
     ]
    }
   ],
   "source": [
    "try: sess.close()\n",
    "except: pass\n",
    "\n",
    "sess=tf.Session()\n",
    "    \n",
    "writer = tf.summary.FileWriter(\"/home/wlwoon/tmp/day14log\", sess.graph)\n",
    "sess.run(tf.global_variables_initializer())\n",
    "\n",
    "es=[]\n",
    "for count in range(n_iter):\n",
    "        \n",
    "    _,tloss=sess.run([opt,loss],feed_dict={dk:.6,nx:xtrain,target:ytrain.reshape((-1,1))})\n",
    "      \n",
    "    if count % 50 ==0:\n",
    "        test_loss=sess.run(testloss,feed_dict={dk:1.0,nx:xtest,target:ytest.reshape((-1,1))})\n",
    "        print(\"iter #\"+str(count)+\", training loss is \"+str(tloss)+\", test loss is \"+str(test_loss))\n",
    "        es.append(test_loss)\n",
    "\n",
    "writer.flush()"
   ]
  },
  {
   "cell_type": "code",
   "execution_count": 116,
   "metadata": {},
   "outputs": [
    {
     "data": {
      "image/png": "[encoded data removed]",
      "text/plain": [
       "<matplotlib.figure.Figure at 0x7f1568a8db38>"
      ]
     },
     "metadata": {},
     "output_type": "display_data"
    },
    {
     "name": "stdout",
     "output_type": "stream",
     "text": [
      "iter #0, training loss is 0.310814, test loss is 0.266182\n"
     ]
    }
   ],
   "source": [
    "# Visualize activations\n",
    "#sess.close();sess=tf.Session();sess.run(tf.global_variables_initializer());counter=iter(range(1000))\n",
    "\n",
    "g=tf.get_default_graph()\n",
    "acts=[g.get_tensor_by_name(name='a'+str(tmp)+\":0\") for tmp in range(5)]\n",
    "wts=[g.get_tensor_by_name(name='w'+str(tmp)+\":0\") for tmp in range(5)]\n",
    "\n",
    "z=pl.figure(figsize=(16,5))\n",
    "for tmp in range(5):\n",
    "    pl.subplot(1,5,tmp+1)\n",
    "    #foo=pl.hist(sess.run(acts[tmp],feed_dict={dk:1,nx:xtest}).flatten(),bins=50)\n",
    "    foo=pl.plot(sess.run(wts[tmp]).flatten()); #,feed_dict={dk:1,nx:xtest}).flatten())\n",
    "    pl.gca().set_yticks([])\n",
    "    #pl.axis(xmin=-3,xmax=3,ymin=-2,ymax=2) # for activations\n",
    "    pl.axis(xmin=0,ymin=-.5,ymax=.5) # for weights\n",
    "    pl.grid('on')\n",
    "    \n",
    "pl.show()\n",
    "z.savefig('f'+str(next(counter))+'png')\n",
    "\n",
    "n_iter=50\n",
    "\n",
    "es=[]\n",
    "for count in range(n_iter):\n",
    "        \n",
    "    _,tloss=sess.run([opt,loss],feed_dict={dk:.6,nx:xtrain,target:ytrain.reshape((-1,1))})\n",
    "      \n",
    "    if count % 50 ==0:\n",
    "        test_loss=sess.run(testloss,feed_dict={dk:1.0,nx:xtest,target:ytest.reshape((-1,1))})\n",
    "        print(\"iter #\"+str(count)+\", training loss is \"+str(tloss)+\", test loss is \"+str(test_loss))\n",
    "        es.append(test_loss)\n",
    "\n",
    "writer.flush()"
   ]
  },
  {
   "cell_type": "code",
   "execution_count": 96,
   "metadata": {},
   "outputs": [
    {
     "data": {
      "text/plain": [
       "(1024,)"
      ]
     },
     "execution_count": 96,
     "metadata": {},
     "output_type": "execute_result"
    }
   ],
   "source": [
    "sess.run(wts[0]).flatten().shape"
   ]
  },
  {
   "cell_type": "code",
   "execution_count": 180,
   "metadata": {},
   "outputs": [],
   "source": [
    "exec(\"es\"+str(next(counter))+\"=es\")"
   ]
  },
  {
   "cell_type": "code",
   "execution_count": 169,
   "metadata": {},
   "outputs": [
    {
     "data": {
      "text/plain": [
       "[<matplotlib.lines.Line2D at 0x7f94139ffda0>]"
      ]
     },
     "execution_count": 169,
     "metadata": {},
     "output_type": "execute_result"
    },
    {
     "data": {
      "image/png": "[encoded data removed]",
      "text/plain": [
       "<matplotlib.figure.Figure at 0x7f94139ffe10>"
      ]
     },
     "metadata": {},
     "output_type": "display_data"
    }
   ],
   "source": [
    "%matplotlib inline\n",
    "#pl.plot(es1)\n",
    "#pl.plot(es2,'r')\n",
    "#pl.plot(es3,'k--')\n",
    "pl.plot(es4,'r--')\n",
    "pl.plot(es7,'b--')\n"
   ]
  },
  {
   "cell_type": "code",
   "execution_count": 65,
   "metadata": {},
   "outputs": [],
   "source": [
    "%matplotlib tk\n",
    "z=sess.run(acts[2],feed_dict={dk:1,nx:xtest})"
   ]
  },
  {
   "cell_type": "code",
   "execution_count": 67,
   "metadata": {},
   "outputs": [
    {
     "data": {
      "text/plain": [
       "array([0.47141473, 0.24870801, 0.58187984, 0.84366925, 0.44266796,\n",
       "       0.65423127, 0.66602067, 0.62112403, 0.27664729, 0.59593023,\n",
       "       0.60206718, 0.7495155 , 0.81476098, 0.6498708 , 0.59786822,\n",
       "       0.25242248, 0.82784238, 0.31605297, 0.31524548, 0.50726744,\n",
       "       0.64518734, 0.69928941, 0.75113049, 0.47076873, 0.51082041,\n",
       "       0.60723514, 0.56895995, 0.54602713, 0.29505814, 0.33301034,\n",
       "       0.8628876 , 0.77955426])"
      ]
     },
     "execution_count": 67,
     "metadata": {},
     "output_type": "execute_result"
    }
   ],
   "source": [
    "z=sess.run(acts[2],feed_dict={dk:1,nx:xtest})\n",
    "((z<0).sum(axis=0))/z.shape[0]"
   ]
  },
  {
   "cell_type": "code",
   "execution_count": 27,
   "metadata": {},
   "outputs": [
    {
     "ename": "SyntaxError",
     "evalue": "invalid syntax (<ipython-input-27-20048e104192>, line 14)",
     "output_type": "error",
     "traceback": [
      "\u001b[0;36m  File \u001b[0;32m\"<ipython-input-27-20048e104192>\"\u001b[0;36m, line \u001b[0;32m14\u001b[0m\n\u001b[0;31m    pl.hist(sess.run(acts[2],feed_dict={dk:1,nx_xtest}))\u001b[0m\n\u001b[0m                                                     ^\u001b[0m\n\u001b[0;31mSyntaxError\u001b[0m\u001b[0;31m:\u001b[0m invalid syntax\n"
     ]
    }
   ],
   "source": [
    "#sess=tf.Session();sess.run(tf.global_variables_initializer())\n",
    "g=tf.get_default_graph()\n",
    "acts=[g.get_tensor_by_name(name='a'+str(tmp)+\":0\") for tmp in range(5)]\n",
    "\n",
    "pl.figure(figsize=(16,5))\n",
    "for tmp in range(5):\n",
    "    pl.subplot(1,5,tmp+1)\n",
    "    foo=pl.hist(sess.run(acts[tmp],feed_dict={dk:1,nx:xtest}).flatten(),bins=50)\n",
    "    pl.gca().set_yticks([])\n",
    "    pl.grid('on')\n",
    "    \n",
    "pl.show()\n",
    "\n"
   ]
  },
  {
   "cell_type": "code",
   "execution_count": 38,
   "metadata": {
    "collapsed": true
   },
   "outputs": [],
   "source": [
    "?ca.set_xticks"
   ]
  },
  {
   "cell_type": "code",
   "execution_count": 130,
   "metadata": {},
   "outputs": [
    {
     "data": {
      "text/plain": [
       "array([ 1.02065714,  0.99876618,  0.84249565,  0.74652804,  1.00117305,\n",
       "        1.54552267,  1.00237812,  0.99950791])"
      ]
     },
     "execution_count": 130,
     "metadata": {},
     "output_type": "execute_result"
    }
   ],
   "source": [
    "np.mean(ytest**2)\n",
    "np.std(xtest,axis=0)"
   ]
  }
 ],
 "metadata": {
  "anaconda-cloud": {},
  "kernelspec": {
   "display_name": "Python 3",
   "language": "python",
   "name": "python3"
  },
  "language_info": {
   "codemirror_mode": {
    "name": "ipython",
    "version": 3
   },
   "file_extension": ".py",
   "mimetype": "text/x-python",
   "name": "python",
   "nbconvert_exporter": "python",
   "pygments_lexer": "ipython3",
   "version": "3.6.2"
  }
 },
 "nbformat": 4,
 "nbformat_minor": 1
}
